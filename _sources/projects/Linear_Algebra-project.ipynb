{
 "cells": [
  {
   "cell_type": "markdown",
   "id": "bb6638af",
   "metadata": {},
   "source": [
    "# CompMech04-Linear Algebra Project\n",
    "# Practical Linear Algebra for Finite Element Analysis"
   ]
  },
  {
   "cell_type": "markdown",
   "id": "3dfefe01",
   "metadata": {},
   "source": [
    "In this project we will perform a linear-elastic finite element analysis (FEA) on a support structure made of 11 beams that are riveted in 7 locations to create a truss as shown in the image below. \n",
    "\n",
    "![Mesh image of truss](../images/mesh.png)"
   ]
  },
  {
   "cell_type": "markdown",
   "id": "e8c5cfaf",
   "metadata": {},
   "source": [
    "The triangular truss shown above can be modeled using a [direct stiffness method [1]](https://en.wikipedia.org/wiki/Direct_stiffness_method), that is detailed in the [extra-FEA_material](./extra-FEA_material.ipynb) notebook. The end result of converting this structure to a FE model. Is that each joint, labeled $n~1-7$, short for _node 1-7_ can move in the x- and y-directions, but causes a force modeled with Hooke's law. Each beam labeled $el~1-11$, short for _element 1-11_, contributes to the stiffness of the structure. We have 14 equations where the sum of the components of forces = 0, represented by the equation\n",
    "\n",
    "$\\mathbf{F-Ku}=\\mathbf{0}$\n",
    "\n",
    "Where, $\\mathbf{F}$ are externally applied forces, $\\mathbf{u}$ are x- and y- displacements of nodes, and $\\mathbf{K}$ is the stiffness matrix given in `fea_arrays.npz` as `K`, shown below\n",
    "\n",
    "_note: the array shown is 1000x(`K`). You can use units of MPa (N/mm^2), N, and mm. The array `K` is in 1/mm_\n",
    "\n",
    "$\\mathbf{K}=EA*$\n",
    "\n",
    "$  \\left[ \\begin{array}{cccccccccccccc}\n",
    " 4.2 & 1.4 & -0.8 & -1.4 & -3.3 & 0.0 & 0.0 & 0.0 & 0.0 & 0.0 & 0.0 & 0.0 & 0.0 & 0.0 \\\\\n",
    " 1.4 & 2.5 & -1.4 & -2.5 & 0.0 & 0.0 & 0.0 & 0.0 & 0.0 & 0.0 & 0.0 & 0.0 & 0.0 & 0.0 \\\\\n",
    " -0.8 & -1.4 & 5.0 & 0.0 & -0.8 & 1.4 & -3.3 & 0.0 & 0.0 & 0.0 & 0.0 & 0.0 & 0.0 & 0.0 \\\\\n",
    " -1.4 & -2.5 & 0.0 & 5.0 & 1.4 & -2.5 & 0.0 & 0.0 & 0.0 & 0.0 & 0.0 & 0.0 & 0.0 & 0.0 \\\\\n",
    " -3.3 & 0.0 & -0.8 & 1.4 & 8.3 & 0.0 & -0.8 & -1.4 & -3.3 & 0.0 & 0.0 & 0.0 & 0.0 & 0.0 \\\\\n",
    " 0.0 & 0.0 & 1.4 & -2.5 & 0.0 & 5.0 & -1.4 & -2.5 & 0.0 & 0.0 & 0.0 & 0.0 & 0.0 & 0.0 \\\\\n",
    " 0.0 & 0.0 & -3.3 & 0.0 & -0.8 & -1.4 & 8.3 & 0.0 & -0.8 & 1.4 & -3.3 & 0.0 & 0.0 & 0.0 \\\\\n",
    " 0.0 & 0.0 & 0.0 & 0.0 & -1.4 & -2.5 & 0.0 & 5.0 & 1.4 & -2.5 & 0.0 & 0.0 & 0.0 & 0.0 \\\\\n",
    " 0.0 & 0.0 & 0.0 & 0.0 & -3.3 & 0.0 & -0.8 & 1.4 & 8.3 & 0.0 & -0.8 & -1.4 & -3.3 & 0.0 \\\\\n",
    " 0.0 & 0.0 & 0.0 & 0.0 & 0.0 & 0.0 & 1.4 & -2.5 & 0.0 & 5.0 & -1.4 & -2.5 & 0.0 & 0.0 \\\\\n",
    " 0.0 & 0.0 & 0.0 & 0.0 & 0.0 & 0.0 & -3.3 & 0.0 & -0.8 & -1.4 & 5.0 & 0.0 & -0.8 & 1.4 \\\\\n",
    " 0.0 & 0.0 & 0.0 & 0.0 & 0.0 & 0.0 & 0.0 & 0.0 & -1.4 & -2.5 & 0.0 & 5.0 & 1.4 & -2.5 \\\\\n",
    " 0.0 & 0.0 & 0.0 & 0.0 & 0.0 & 0.0 & 0.0 & 0.0 & -3.3 & 0.0 & -0.8 & 1.4 & 4.2 & -1.4 \\\\\n",
    " 0.0 & 0.0 & 0.0 & 0.0 & 0.0 & 0.0 & 0.0 & 0.0 & 0.0 & 0.0 & 1.4 & -2.5 & -1.4 & 2.5 \\\\\n",
    "\\end{array}\\right]~\\frac{1}{m}$"
   ]
  },
  {
   "cell_type": "code",
   "execution_count": 1,
   "id": "4f6b7766",
   "metadata": {},
   "outputs": [
    {
     "ename": "FileNotFoundError",
     "evalue": "[Errno 2] No such file or directory: './fea_arrays.npz'",
     "output_type": "error",
     "traceback": [
      "\u001b[0;31m---------------------------------------------------------------------------\u001b[0m",
      "\u001b[0;31mFileNotFoundError\u001b[0m                         Traceback (most recent call last)",
      "\u001b[0;32m/tmp/ipykernel_3144/2926505998.py\u001b[0m in \u001b[0;36m<module>\u001b[0;34m\u001b[0m\n\u001b[1;32m      1\u001b[0m \u001b[0;32mimport\u001b[0m \u001b[0mnumpy\u001b[0m \u001b[0;32mas\u001b[0m \u001b[0mnp\u001b[0m\u001b[0;34m\u001b[0m\u001b[0;34m\u001b[0m\u001b[0m\n\u001b[0;32m----> 2\u001b[0;31m \u001b[0mfea_arrays\u001b[0m \u001b[0;34m=\u001b[0m \u001b[0mnp\u001b[0m\u001b[0;34m.\u001b[0m\u001b[0mload\u001b[0m\u001b[0;34m(\u001b[0m\u001b[0;34m'./fea_arrays.npz'\u001b[0m\u001b[0;34m)\u001b[0m\u001b[0;34m\u001b[0m\u001b[0;34m\u001b[0m\u001b[0m\n\u001b[0m\u001b[1;32m      3\u001b[0m \u001b[0mK\u001b[0m\u001b[0;34m=\u001b[0m\u001b[0mfea_arrays\u001b[0m\u001b[0;34m[\u001b[0m\u001b[0;34m'K'\u001b[0m\u001b[0;34m]\u001b[0m\u001b[0;34m\u001b[0m\u001b[0;34m\u001b[0m\u001b[0m\n\u001b[1;32m      4\u001b[0m \u001b[0mK\u001b[0m\u001b[0;34m\u001b[0m\u001b[0;34m\u001b[0m\u001b[0m\n",
      "\u001b[0;32m/opt/hostedtoolcache/Python/3.9.6/x64/lib/python3.9/site-packages/numpy/lib/npyio.py\u001b[0m in \u001b[0;36mload\u001b[0;34m(file, mmap_mode, allow_pickle, fix_imports, encoding)\u001b[0m\n\u001b[1;32m    415\u001b[0m             \u001b[0mown_fid\u001b[0m \u001b[0;34m=\u001b[0m \u001b[0;32mFalse\u001b[0m\u001b[0;34m\u001b[0m\u001b[0;34m\u001b[0m\u001b[0m\n\u001b[1;32m    416\u001b[0m         \u001b[0;32melse\u001b[0m\u001b[0;34m:\u001b[0m\u001b[0;34m\u001b[0m\u001b[0;34m\u001b[0m\u001b[0m\n\u001b[0;32m--> 417\u001b[0;31m             \u001b[0mfid\u001b[0m \u001b[0;34m=\u001b[0m \u001b[0mstack\u001b[0m\u001b[0;34m.\u001b[0m\u001b[0menter_context\u001b[0m\u001b[0;34m(\u001b[0m\u001b[0mopen\u001b[0m\u001b[0;34m(\u001b[0m\u001b[0mos_fspath\u001b[0m\u001b[0;34m(\u001b[0m\u001b[0mfile\u001b[0m\u001b[0;34m)\u001b[0m\u001b[0;34m,\u001b[0m \u001b[0;34m\"rb\"\u001b[0m\u001b[0;34m)\u001b[0m\u001b[0;34m)\u001b[0m\u001b[0;34m\u001b[0m\u001b[0;34m\u001b[0m\u001b[0m\n\u001b[0m\u001b[1;32m    418\u001b[0m             \u001b[0mown_fid\u001b[0m \u001b[0;34m=\u001b[0m \u001b[0;32mTrue\u001b[0m\u001b[0;34m\u001b[0m\u001b[0;34m\u001b[0m\u001b[0m\n\u001b[1;32m    419\u001b[0m \u001b[0;34m\u001b[0m\u001b[0m\n",
      "\u001b[0;31mFileNotFoundError\u001b[0m: [Errno 2] No such file or directory: './fea_arrays.npz'"
     ]
    }
   ],
   "source": [
    "import numpy as np\n",
    "fea_arrays = np.load('./fea_arrays.npz')\n",
    "K=fea_arrays['K']\n",
    "K"
   ]
  },
  {
   "cell_type": "markdown",
   "id": "afc696cb",
   "metadata": {},
   "source": [
    "In this project we are solving the problem, $\\mathbf{F}=\\mathbf{Ku}$, where $\\mathbf{F}$ is measured in Newtons, $\\mathbf{K}$ `=E*A*K` is the stiffness in N/mm, `E` is Young's modulus measured in MPa (N/mm^2), and `A` is the cross-sectional area of the beam measured in mm^2. \n",
    "\n",
    "There are three constraints on the motion of the joints:\n",
    "\n",
    "i. node 1 displacement in the x-direction is 0 = `u[0]`\n",
    "\n",
    "ii. node 1 displacement in the y-direction is 0 = `u[1]`\n",
    "\n",
    "iii. node 7 displacement in the y-direction is 0 = `u[13]`\n",
    "\n",
    "We can satisfy these constraints by leaving out the first, second, and last rows and columns from our linear algebra description."
   ]
  },
  {
   "cell_type": "markdown",
   "id": "e6b1122f",
   "metadata": {},
   "source": [
    "### 1. Calculate the condition of `K` and the condition of `K[2:13,2:13]`. \n",
    "\n",
    "a. What error would you expect when you solve for `u` in `K*u = F`? \n",
    "\n",
    "b. Why is the condition of `K` so large? __The problem is underconstrained. It describes stiffness of structure, but not the BC's. So, we end up with sumF=0 and -sumF=0__\n",
    "\n",
    "c. What error would you expect when you solve for `u[2:13]` in `K[2:13,2:13]*u=F[2:13]`"
   ]
  },
  {
   "cell_type": "code",
   "execution_count": null,
   "id": "74b723b4",
   "metadata": {},
   "outputs": [],
   "source": [
    "print(np.linalg.cond(K))\n",
    "print(np.linalg.cond(K[2:13,2:13]))\n",
    "\n",
    "print('expected error in x=solve(K,b) is {}'.format(10**(16-16)))\n",
    "print('expected error in x=solve(K[2:13,2:13],b) is {}'.format(10**(2-16)))"
   ]
  },
  {
   "cell_type": "markdown",
   "id": "2d77f51c",
   "metadata": {},
   "source": [
    "### 2. Apply a 100-N downward force to the central top node (n 4)\n",
    "\n",
    "a. Create the LU matrix for K[2:13,2:13]\n",
    "\n",
    "b. Use cross-sectional area of $0.1~mm^2$ and steel and almuminum moduli, $E=200~GPa~and~E=70~GPa,$ respectively. Solve the forward and backward substitution methods for \n",
    "\n",
    "* $\\mathbf{Ly}=\\mathbf{F}\\frac{1}{EA}$\n",
    "\n",
    "* $\\mathbf{Uu}=\\mathbf{y}$\n",
    "\n",
    "_your array `F` is zeros, except for `F[5]=-100`, to create a -100 N load at node 4._\n",
    "\n",
    "c. Plug in the values for $\\mathbf{u}$ into the full equation, $\\mathbf{Ku}=\\mathbf{F}$, to solve for the reaction forces\n",
    "\n",
    "d. Create a plot of the undeformed and deformed structure with the displacements and forces plotted as vectors (via `quiver`). Your result for aluminum should match the following result from [extra-FEA_material](./extra-FEA_material.ipynb). _note: The scale factor is applied to displacements $\\mathbf{u}$, not forces._\n",
    "\n",
    "![Deformed structure with loads applied](../images/deformed_truss.png)"
   ]
  },
  {
   "cell_type": "code",
   "execution_count": null,
   "id": "038458a5",
   "metadata": {},
   "outputs": [],
   "source": [
    "E=200e3\n",
    "A=0.1\n",
    "Ff=np.zeros(11)\n",
    "Ff[5]=-100\n",
    "print(Ff)\n",
    "# step 1 solve for uf (the joints without constraints)\n",
    "uf = np.linalg.solve(E*A*K[2:13,2:13],Ff)\n",
    "u=np.zeros(14)\n",
    "u[2:13]=uf\n",
    "\n",
    "# step 2 solve for F (the solution should include reactions and applied forces)\n",
    "F=E*A*K@u\n",
    "print(F[2:13])"
   ]
  },
  {
   "cell_type": "code",
   "execution_count": null,
   "id": "abbbcebd",
   "metadata": {},
   "outputs": [],
   "source": [
    "xy={0:'x',1:'y'}\n",
    "print('displacements:\\n----------------')\n",
    "for i in range(len(u)):\n",
    "    print('u_{}{}:{:.2f} mm'.format(int(i/2)+1,xy[i%2],u[i]))\n",
    "print('\\nforces:\\n----------------')\n",
    "for i in range(len(F)):\n",
    "    print('F_{}{}:{:.2f} N'.format(int(i/2)+1,xy[i%2],F[i]))"
   ]
  },
  {
   "cell_type": "code",
   "execution_count": null,
   "id": "974d7216",
   "metadata": {},
   "outputs": [],
   "source": [
    "import matplotlib.pyplot as plt"
   ]
  },
  {
   "cell_type": "code",
   "execution_count": null,
   "id": "f7a8e8da",
   "metadata": {},
   "outputs": [],
   "source": [
    "ix = 2*np.block([[np.arange(0,5)],[np.arange(1,6)],[np.arange(2,7)],[np.arange(0,5)]])\n",
    "iy = ix+1\n",
    "nodes = np.array([[1,0,0],[2,0.5,3**0.5/2],[3,1,0],[4,1.5,3**0.5/2],[5,2,0],[6,2.5,3**0.5/2],[7,3,0]])\n",
    "nodes[:,1:3]*=300\n",
    "elems = np.array([[1,1,2],[2,2,3],[3,1,3],[4,2,4],[5,3,4],[6,3,5],[7,4,5],[8,4,6],[9,5,6],[10,5,7],[11,6,7]])\n",
    "r = np.block([n[1:3] for n in nodes])\n",
    "\n",
    "s=5\n",
    "l=300\n",
    "plt.plot(r[ix],r[iy],'-',color=(0,0,0,1))\n",
    "plt.plot(r[ix]+u[ix]*s,r[iy]+u[iy]*s,'-',color=(1,0,0,1))\n",
    "#plt.quiver(r[ix],r[iy],u[ix],u[iy],color=(0,0,1,1),label='displacements')\n",
    "plt.quiver(r[ix],r[iy],F[ix],F[iy],color=(1,0,0,1),label='applied forces')\n",
    "plt.quiver(r[ix],r[iy],u[ix],u[iy],color=(0,0,1,1),label='displacements')\n",
    "plt.axis(l*np.array([-0.5,3.5,-0.5,2]))\n",
    "plt.xlabel('x (mm)')\n",
    "plt.ylabel('y (mm)')\n",
    "plt.title('Deformation scale = {:.1f}x'.format(s))\n",
    "plt.legend(bbox_to_anchor=(1,0.5))"
   ]
  },
  {
   "cell_type": "markdown",
   "id": "5d5352b9",
   "metadata": {},
   "source": [
    "### 3. Determine cross-sectional area\n",
    "\n",
    "a. Using aluminum, what is the minimum cross-sectional area to keep total y-deflections $<0.2~mm$?\n",
    "\n",
    "b. Using steel, what is the minimum cross-sectional area to keep total y-deflections $<0.2~mm$?\n",
    "\n",
    "c. What are the weights of the aluminum and steel trusses with the chosed cross-sectional areas?\n",
    "\n",
    "d. The current price (2020/03) of [aluminum](https://tradingeconomics.com/commodity/aluminum) is 1545 dollars/Tonne and [steel](https://tradingeconomics.com/commodity/steel) is 476 dollars/Tonne [2]. Which material is cheaper to  create the truss?"
   ]
  },
  {
   "cell_type": "code",
   "execution_count": null,
   "id": "6396872d",
   "metadata": {},
   "outputs": [],
   "source": [
    "rhoSteel = 8000/1000**3 #kg/m^3*1m^3/(1000**3mm**3) [kg/mm^3]\n",
    "rhoAl = 2700/1000**3 #kg/m^3*1m^3/(1000**3mm**3) [kg/mm^3]"
   ]
  },
  {
   "cell_type": "markdown",
   "id": "64f57036",
   "metadata": {},
   "source": [
    "__Solve the problem with given E for Steel and Aluminum (I used 200 GPa and 70 GPa, respectively). Then, total price is the volume x density x price/tonne/1000, here I used 8000 and 2700 kg/m^3, respectively.__\n",
    "\n",
    "Its a linear solution, so once you have one answer e.g. max deflection is 10 mm, you can multiply the Area by the actual/desired"
   ]
  },
  {
   "cell_type": "code",
   "execution_count": null,
   "id": "817bdeb8",
   "metadata": {},
   "outputs": [],
   "source": [
    "E=200e3\n",
    "A=0.1\n",
    "Ff=np.zeros(11)\n",
    "Ff[5]=-100\n",
    "print(Ff)\n",
    "# step 1 solve for uf (the joints without constraints)\n",
    "uf = np.linalg.solve(E*A*K[2:13,2:13],Ff)\n",
    "u=np.zeros(14)\n",
    "u[2:13]=uf\n",
    "\n",
    "\n",
    "np.abs(u).max()/0.2"
   ]
  },
  {
   "cell_type": "markdown",
   "id": "a8b8eb6c",
   "metadata": {},
   "source": [
    "with A=0.1, its 27x off, so multiply area be 27."
   ]
  },
  {
   "cell_type": "code",
   "execution_count": null,
   "id": "2302ca30",
   "metadata": {},
   "outputs": [],
   "source": [
    "E=200e3\n",
    "A=0.1*26.875 # new cross-section\n",
    "Ff=np.zeros(11)\n",
    "Ff[5]=-100\n",
    "\n",
    "# step 1 solve for uf (the joints without constraints)\n",
    "uf = np.linalg.solve(E*A*K[2:13,2:13],Ff)\n",
    "u=np.zeros(14)\n",
    "u[2:13]=uf\n",
    "\n",
    "\n",
    "print('(max deflection)/(0.2mm)=',np.abs(u).max()/0.2)\n",
    "print('A=',A,'mm^2')\n",
    "print('total volume =',A*300*7,'mm^3')\n",
    "print('total price =${:.04f}/truss'.format(A*300*7*rhoSteel*476e-3))"
   ]
  },
  {
   "cell_type": "code",
   "execution_count": null,
   "id": "2fb965dc",
   "metadata": {},
   "outputs": [],
   "source": [
    "E=70e3\n",
    "A=0.1 # new cross-section\n",
    "Ff=np.zeros(11)\n",
    "Ff[5]=-100\n",
    "# step 1 solve for uf (the joints without constraints)\n",
    "uf = np.linalg.solve(E*A*K[2:13,2:13],Ff)\n",
    "u=np.zeros(14)\n",
    "u[2:13]=uf\n",
    "\n",
    "print(np.abs(u).max()/0.2)"
   ]
  },
  {
   "cell_type": "markdown",
   "id": "580fd270",
   "metadata": {},
   "source": [
    "with A=0.1, its 77x off, so multiply area by 77."
   ]
  },
  {
   "cell_type": "code",
   "execution_count": null,
   "id": "519b0028",
   "metadata": {},
   "outputs": [],
   "source": [
    "E=70e3\n",
    "A=0.1*76.7857 # new cross-section\n",
    "Ff=np.zeros(11)\n",
    "Ff[5]=-100\n",
    "# step 1 solve for uf (the joints without constraints)\n",
    "uf = np.linalg.solve(E*A*K[2:13,2:13],Ff)\n",
    "u=np.zeros(14)\n",
    "u[2:13]=uf\n",
    "\n",
    "\n",
    "print('(max deflection)/(0.2mm)=',np.abs(u).max()/0.2)\n",
    "print('A=',A,'mm^2')\n",
    "print('total volume =',A*300*7,'mm^3')\n",
    "print('total price =${:.4f}/truss'.format(A*300*7*rhoAl*476e-3))"
   ]
  },
  {
   "cell_type": "markdown",
   "id": "3191b1b0",
   "metadata": {},
   "source": [
    "__Choose Aluminum based upon current prices and total volume needed.__ (this is subject to variation in the choice of density and modulus)"
   ]
  },
  {
   "cell_type": "markdown",
   "id": "5c4fb906",
   "metadata": {},
   "source": [
    "### 4. Future Predictions using past data\n",
    "\n",
    "The data from the price of aluminum and steel are in the data files `../data/al_prices.csv` and `../data/steel_price.csv`. If you're going to produce these supports for 5 years, how would you use the price history of steel and aluminum to compare how much manufacturing will cost?\n",
    "\n",
    "a. Separate the aluminum and steel data points into training and testing data (70-30%-split)\n",
    "\n",
    "b. Fit the training data to polynomial functions of order n. _Choose the highest order._\n",
    "\n",
    "c. Plot the error between your model and the training data and the error between your model and you testing data as a function of the polynomial function order, n. [Create the training-testing curves](../notebooks/03_Linear-regression-algebra.ipynb)\n",
    "\n",
    "d. Choose a polynomial function to predict the price of aluminum and steel in the year 2025. \n",
    "\n",
    "e. Based upon your price model would you change your answer in __3.b__?"
   ]
  },
  {
   "cell_type": "code",
   "execution_count": null,
   "id": "18b41546",
   "metadata": {},
   "outputs": [],
   "source": [
    "steel=np.loadtxt('../data/steel_price.csv',skiprows=1,delimiter=',')\n",
    "al = np.loadtxt('../data/al_price.csv',skiprows=1,delimiter=',')\n",
    "al = np.block([[(al[:,0]-al[:,0].min())/(al[:,0].max()-al[:,0].min())],[al[:,1]],[al[:,0]]]).T\n",
    "steel = np.block([[(steel[:,0]-steel[:,0].min())/(steel[:,0].max()-steel[:,0].min())],[steel[:,1]],[steel[:,0]]]).T"
   ]
  },
  {
   "cell_type": "code",
   "execution_count": null,
   "id": "39e1e17e",
   "metadata": {},
   "outputs": [],
   "source": [
    "plt.plot(steel[:,0],steel[:,1])\n",
    "#plt.plot(al[:,0],al[:,1])"
   ]
  },
  {
   "cell_type": "code",
   "execution_count": null,
   "id": "bb9ca30e",
   "metadata": {},
   "outputs": [],
   "source": [
    "al[[0,2,10,20]]"
   ]
  },
  {
   "cell_type": "code",
   "execution_count": null,
   "id": "0f7d81d7",
   "metadata": {},
   "outputs": [],
   "source": [
    "# randomize testing/training indices\n",
    "import random\n",
    "np.random.seed(103)\n",
    "\n",
    "i_rand=random.sample(range(0,len(al)),len(al))\n",
    "# choose the first half of data as training\n",
    "train_per=0.7\n",
    "al_train=al[np.sort(i_rand[:int(len(al)*train_per)])]\n",
    "# choose the second half of data as testing\n",
    "al_test=al[np.sort(i_rand[int(len(al)*train_per):])]"
   ]
  },
  {
   "cell_type": "code",
   "execution_count": null,
   "id": "32f65c43",
   "metadata": {},
   "outputs": [],
   "source": [
    "plt.plot(al_train[:,2],al_train[:,1],'o-')\n",
    "plt.plot(al_test[:,2],al_test[:,1],'s-')"
   ]
  },
  {
   "cell_type": "code",
   "execution_count": null,
   "id": "a4a4a83d",
   "metadata": {},
   "outputs": [],
   "source": [
    "Z=np.block([[al_train[:,0]**0]]).T\n",
    "Z_test=np.block([[al_test[:,0]**0]]).T\n",
    "#np.append(Z,np.array([d**2]),axis=0)\n",
    "max_N=40\n",
    "SSE_train=np.zeros(max_N)\n",
    "SSE_test=np.zeros(max_N)\n",
    "for i in range(1,max_N):\n",
    "    Z=np.hstack((Z,al_train[:,0].reshape(-1,1)**i))\n",
    "    Z_test=np.hstack((Z_test,al_test[:,0].reshape(-1,1)**i))\n",
    "    A = np.linalg.solve(Z.T@Z,Z.T@al_train[:,1])\n",
    "    St=np.std(al_train[:,1])\n",
    "    Sr=np.std(al_train[:,1]-Z@A)\n",
    "    r2=1-Sr/St\n",
    "    if (i)%5==0:\n",
    "        print('---- n={:d} -------'.format(i))\n",
    "        print('the coefficient of determination for this fit is {:.3f}'.format(r2))\n",
    "        print('the correlation coefficient this fit is {:.3f}'.format(r2**0.5))\n",
    "    if (i) <=6 or i==29: plt.plot(al_train[:,0],al_train[:,1]-Z@A,'o',label='order {:d}'.format(i))\n",
    "    SSE_train[i]=np.sum((al_train[:,1]-Z@A)**2)/len(al_train)\n",
    "    SSE_test[i]=np.sum((al_test[:,1]-Z_test@A)**2)/len(al_test)\n",
    "    \n",
    "#plt.plot(d,F)\n",
    "plt.legend(loc='center left', bbox_to_anchor=(1, 0.5));\n",
    "plt.title('Error in predicted vs measured values')\n",
    "plt.xlabel('deflection (nm)')\n",
    "plt.ylabel('force error\\ny-Z@A(nN)');"
   ]
  },
  {
   "cell_type": "code",
   "execution_count": null,
   "id": "4dee9dfb",
   "metadata": {},
   "outputs": [],
   "source": [
    "f, (ax1,ax2)=plt.subplots(1,2,figsize=(12,4),tight_layout=True)\n",
    "ax1.semilogy(np.arange(0,max_N),SSE_train,label='training error')\n",
    "ax1.semilogy(np.arange(0,max_N),SSE_test,label='testing error')\n",
    "ax1.legend();\n",
    "ax1.set_xlabel('polynomial order')\n",
    "ax1.set_ylabel('total sum of square error');\n",
    "ax2.plot(al_train[:,2],Z@A,'o',label='train order {:d}'.format(i))\n",
    "ax2.plot(al_test[:,2],Z_test@A,'s',label='test order {:d}'.format(i))\n",
    "Z_extrap=np.array([np.linspace(1,2)**i for i in range(0,max_N)]).T\n",
    "ax2.plot(np.linspace(1,2)*(al[:,2].max()-al[:,2].min())+al[:,2].min(),Z_extrap@A)\n",
    "ax2.plot(al[:,2],al[:,1])\n",
    "ax2.set_ylim((0,10000))\n",
    "ax2.legend();\n",
    "ax2.set_ylabel('cost (kg/tonne)')\n",
    "ax2.set_xlabel('year');"
   ]
  },
  {
   "cell_type": "markdown",
   "id": "9b861732",
   "metadata": {},
   "source": [
    "__Result is that we can get a polynomial that is very good at interpolating known values, but very poor at extrapolating. Its not work changing the choise from before based upon these projections unless we use a piecewise linear fit. Even then, 5 years is a long time to project__"
   ]
  },
  {
   "cell_type": "markdown",
   "id": "3c68e657",
   "metadata": {},
   "source": [
    "# References\n",
    "\n",
    "1. <https://en.wikipedia.org/wiki/Direct_stiffness_method>\n",
    "\n",
    "2. Aluminum and steel price history on <https://tradingeconomics.com>"
   ]
  },
  {
   "cell_type": "code",
   "execution_count": null,
   "id": "fc25a22b",
   "metadata": {},
   "outputs": [],
   "source": []
  }
 ],
 "metadata": {
  "jupytext": {
   "formats": "notebooks//ipynb,md:myst",
   "text_representation": {
    "extension": ".md",
    "format_name": "myst",
    "format_version": 0.13,
    "jupytext_version": "1.10.3"
   }
  },
  "kernelspec": {
   "display_name": "Python 3",
   "language": "python",
   "name": "python3"
  },
  "language_info": {
   "codemirror_mode": {
    "name": "ipython",
    "version": 3
   },
   "file_extension": ".py",
   "mimetype": "text/x-python",
   "name": "python",
   "nbconvert_exporter": "python",
   "pygments_lexer": "ipython3",
   "version": "3.9.6"
  },
  "source_map": [
   13,
   19,
   26,
   55,
   60,
   74,
   84,
   90,
   110,
   126,
   136,
   140,
   160,
   172,
   175,
   181,
   194,
   198,
   216,
   227,
   231,
   246,
   250,
   266,
   273,
   278,
   282,
   295,
   300,
   329,
   345,
   349,
   357
  ]
 },
 "nbformat": 4,
 "nbformat_minor": 5
}