{
 "cells": [
  {
   "cell_type": "code",
   "execution_count": 1,
   "id": "0d1fb809",
   "metadata": {},
   "outputs": [
    {
     "ename": "ModuleNotFoundError",
     "evalue": "No module named 'pandas'",
     "output_type": "error",
     "traceback": [
      "\u001b[0;31m---------------------------------------------------------------------------\u001b[0m",
      "\u001b[0;31mModuleNotFoundError\u001b[0m                       Traceback (most recent call last)",
      "\u001b[0;32m/tmp/ipykernel_3082/2987024296.py\u001b[0m in \u001b[0;36m<module>\u001b[0;34m\u001b[0m\n\u001b[1;32m      1\u001b[0m \u001b[0;32mimport\u001b[0m \u001b[0mnumpy\u001b[0m \u001b[0;32mas\u001b[0m \u001b[0mnp\u001b[0m\u001b[0;34m\u001b[0m\u001b[0;34m\u001b[0m\u001b[0m\n\u001b[1;32m      2\u001b[0m \u001b[0;32mimport\u001b[0m \u001b[0mmatplotlib\u001b[0m\u001b[0;34m.\u001b[0m\u001b[0mpyplot\u001b[0m \u001b[0;32mas\u001b[0m \u001b[0mplt\u001b[0m\u001b[0;34m\u001b[0m\u001b[0;34m\u001b[0m\u001b[0m\n\u001b[0;32m----> 3\u001b[0;31m \u001b[0;32mimport\u001b[0m \u001b[0mpandas\u001b[0m \u001b[0;32mas\u001b[0m \u001b[0mpd\u001b[0m\u001b[0;34m\u001b[0m\u001b[0;34m\u001b[0m\u001b[0m\n\u001b[0m\u001b[1;32m      4\u001b[0m \u001b[0mplt\u001b[0m\u001b[0;34m.\u001b[0m\u001b[0mstyle\u001b[0m\u001b[0;34m.\u001b[0m\u001b[0muse\u001b[0m\u001b[0;34m(\u001b[0m\u001b[0;34m'fivethirtyeight'\u001b[0m\u001b[0;34m)\u001b[0m\u001b[0;34m\u001b[0m\u001b[0;34m\u001b[0m\u001b[0m\n\u001b[1;32m      5\u001b[0m \u001b[0;32mfrom\u001b[0m \u001b[0mnumpy\u001b[0m\u001b[0;34m.\u001b[0m\u001b[0mrandom\u001b[0m \u001b[0;32mimport\u001b[0m \u001b[0mdefault_rng\u001b[0m\u001b[0;34m\u001b[0m\u001b[0;34m\u001b[0m\u001b[0m\n",
      "\u001b[0;31mModuleNotFoundError\u001b[0m: No module named 'pandas'"
     ]
    }
   ],
   "source": [
    "import numpy as np\n",
    "import matplotlib.pyplot as plt\n",
    "import pandas as pd\n",
    "plt.style.use('fivethirtyeight')\n",
    "from numpy.random import default_rng"
   ]
  },
  {
   "cell_type": "markdown",
   "id": "2fca03ea",
   "metadata": {},
   "source": [
    "# Project #02 - NYSE random walk predictor\n",
    "\n",
    "In the [Stats and Monte Carlo](../module_02/04_Stats_and_Montecarlo) module, you created a Brownian motion model to predict the motion of particles in a fluid. The Monte Carlo model took steps in the x- and y-directions with random magnitudes. \n",
    "\n",
    "This [random walk](https://en.wikipedia.org/wiki/Random_walk_hypothesis) can be used to predict stock prices. Let's take a look at some data from the New York Stock Exchange [NYSE](https://www.kaggle.com/dgawlik/nyse) from 2010 through 2017. \n",
    "\n",
    "> __Important Note__: \n",
    "> I am not a financial advisor and these models are _purely_ for academic exercises. If you decide to use anything in these notebooks to make financial decisions, it is _at your own risk_. _I am not an economist/financial advisor/etc., I am just a Professor who likes to learn and exeriment._\n",
    "\n",
    "Here, I will show an example workflow to analyze and predict the Google\n",
    "stock price [[GOOGL]](https://en.wikipedia.org/wiki/Alphabet_Inc.) from\n",
    "2010 - 2014. Then, you can choose your own stock price to evaluate and\n",
    "create a predictive model.\n",
    "\n",
    "1. Explore data and select data of interest\n",
    "2. Find statistical description of data: mean and standard deviation\n",
    "3. Create random variables\n",
    "4. Generate random walk for [[GOOGL]](https://en.wikipedia.org/wiki/Alphabet_Inc.) stock opening price"
   ]
  },
  {
   "cell_type": "markdown",
   "id": "6e5dd876",
   "metadata": {},
   "source": [
    "## 1. Explore data\n",
    "\n",
    "Here, I load the data into a Pandas dataframe to see what headings and values are available. I see two columns that I want to analyze\n",
    "- 'date'\n",
    "- 'open'"
   ]
  },
  {
   "cell_type": "code",
   "execution_count": null,
   "id": "e11bc881",
   "metadata": {},
   "outputs": [],
   "source": [
    "data = pd.read_csv('../data/nyse-data.csv')\n",
    "data['date'] = pd.to_datetime(data['date'])\n",
    "data"
   ]
  },
  {
   "cell_type": "markdown",
   "id": "0476ec0d",
   "metadata": {},
   "source": [
    "I only want the `symbol == GOOGL` data, so I use a Pandas call. I also want to remove the big drop in price after Mar, 2014, so I specify the date < 2014-03-01."
   ]
  },
  {
   "cell_type": "code",
   "execution_count": null,
   "id": "a8225eb9",
   "metadata": {},
   "outputs": [],
   "source": [
    "google_data = data[data['symbol'] == 'GOOGL']\n",
    "\n",
    "plt.plot(google_data['date'], google_data['open'])\n",
    "\n",
    "# remove data > 2014-03-01\n",
    "\n",
    "google_data_pre_2014 = google_data[ google_data['date'] < pd.to_datetime('2014-03-01')]\n",
    "plt.plot(google_data_pre_2014['date'], google_data_pre_2014['open'])\n",
    "plt.xlabel('date')\n",
    "plt.ylabel('opening price (\\$)');"
   ]
  },
  {
   "cell_type": "markdown",
   "id": "42cddc49",
   "metadata": {},
   "source": [
    "## 2. Data analysis\n",
    "\n",
    "The GOOGL stock nearly doubled in price from 2010 through 2014. Day-to-day, the price fluctuates randomly. Here, I look at the fluctuations in price using [`np.diff`](https://numpy.org/doc/1.20/reference/generated/numpy.diff.html)."
   ]
  },
  {
   "cell_type": "code",
   "execution_count": null,
   "id": "f9596c7a",
   "metadata": {},
   "outputs": [],
   "source": [
    "dprice = np.diff(google_data_pre_2014['open'])\n",
    "plt.plot(google_data_pre_2014['date'][1:], dprice)\n",
    "plt.xlabel('date')\n",
    "plt.ylabel('change in opening price (\\$/day)');"
   ]
  },
  {
   "cell_type": "markdown",
   "id": "708f9966",
   "metadata": {},
   "source": [
    "Looking at the price day-to-day, it would appear to be an average change of $0/day. Next, I explore the statistical results of the change in opening price\n",
    "\n",
    "- mean\n",
    "- standard deviation\n",
    "- histogram"
   ]
  },
  {
   "cell_type": "code",
   "execution_count": null,
   "id": "46c8866d",
   "metadata": {},
   "outputs": [],
   "source": [
    "mean_dprice = np.mean(dprice)\n",
    "std_dprice = np.std(dprice)\n",
    "x = np.linspace(-40, 40)\n",
    "from scipy import stats\n",
    "price_pdf = stats.norm.pdf(x, loc = mean_dprice, scale = std_dprice)"
   ]
  },
  {
   "cell_type": "code",
   "execution_count": null,
   "id": "24be92a9",
   "metadata": {},
   "outputs": [],
   "source": [
    "plt.hist(dprice, 50, density=True)\n",
    "plt.plot(x, price_pdf)\n",
    "plt.title('GOOGL changes in price over 4 years\\n'+\n",
    "         'avg: \\${:.2f} stdev: \\${:.2f}'.format(mean_dprice, std_dprice));"
   ]
  },
  {
   "cell_type": "markdown",
   "id": "d2158375",
   "metadata": {},
   "source": [
    "From this statistical result, it looks like the price changes followed a normal distribution with an average change of $\\$0.57$ and a standard deviation of $\\$9.84$."
   ]
  },
  {
   "cell_type": "markdown",
   "id": "927f86e0",
   "metadata": {},
   "source": [
    "## 3. Create random variables\n",
    "\n",
    "Now, I know the distribution shape and characteristics to simulate the random walk price changes for the GOOGL prices each day. Here, I generate random variables with the following array structure:\n",
    "\n",
    "Date |model 1| model 2| model 3|...| model N|\n",
    "---|---|---|---|---|---|\n",
    "day 1|$\\Delta \\$ model~1$|$\\Delta \\$ model~2$|$\\Delta \\$ model~3$|...|$\\Delta \\$ model~N$|\n",
    "day 2|$\\Delta \\$ model~1$|$\\Delta \\$ model~2$|$\\Delta \\$ model~3$|...|$\\Delta \\$ model~N$|\n",
    "...|...|...|...|...|...|\n",
    "\n",
    "Each column is one random walk model. Each row is one simulated day. If I want to look at _one_ model predition, I would plot one column. If I want to look at the _average_ result, I take the average of each row. To start, I'll create 100 random walk models. I use the [`normal`](https://numpy.org/doc/stable/reference/random/generated/numpy.random.Generator.normal.html#numpy.random.Generator.normal) distribution to match the statistical distribution I found in part 2."
   ]
  },
  {
   "cell_type": "code",
   "execution_count": null,
   "id": "6e366b77",
   "metadata": {},
   "outputs": [],
   "source": [
    "rng = default_rng(42)\n",
    "N_models = 100\n",
    "dprice_model = rng.normal(size = (len(google_data_pre_2014), N_models), loc = 0.568, scale = 9.838)\n",
    "\n",
    "plt.hist(dprice, 50, density=True, label = 'NYSE data')\n",
    "plt.plot(x, price_pdf)\n",
    "plt.hist(dprice_model[:, 0], 50, density = True, \n",
    "         histtype = 'step', \n",
    "         linewidth = 3, label = 'model prediction 1')\n",
    "plt.title('GOOGL changes in price over 4 years\\n'+\n",
    "         'avg: \\${:.2f} stdev: \\${:.2f}'.format(mean_dprice, std_dprice))\n",
    "plt.legend();"
   ]
  },
  {
   "cell_type": "markdown",
   "id": "d61c79bb",
   "metadata": {},
   "source": [
    "## 4. Generate random walk predictions\n",
    "\n",
    "Above, I show tha the simulated data follows the requested normal distribution. Now, I can cumulatively sum these steps to predict the stock prices each day. I use the  [`np.cumsum`](https://numpy.org/doc/1.20/reference/generated/numpy.cumsum.html) argument, `axis = 0` to sum along the columns i.e. each row becomes the sum of previous rows. \n",
    "\n",
    "```python\n",
    ">>> a = np.array([[1,2,3], [4,5,6]])\n",
    ">>> a\n",
    "array([[1, 2, 3],\n",
    "       [4, 5, 6]])\n",
    ">>>> np.cumsum(a,axis=0)      # sum over rows for each of the 3 columns\n",
    "array([[1, 2, 3],\n",
    "       [5, 7, 9]])\n",
    "```\n",
    "\n",
    "Then, I plot all of the random walk models to compare to the NYSE data. The models are given transparency using the `alpha = 0.3` command (_`alpha = 0` is invisible, `alpha = 1` is opaque_)."
   ]
  },
  {
   "cell_type": "code",
   "execution_count": null,
   "id": "e6099705",
   "metadata": {},
   "outputs": [],
   "source": [
    "price_model = np.cumsum(dprice_model, axis = 0) + google_data_pre_2014['open'].values[0]\n",
    "\n",
    "plt.plot(google_data_pre_2014['date'], price_model, alpha = 0.3);\n",
    "\n",
    "plt.plot(google_data_pre_2014['date'], google_data_pre_2014['open'], c = 'k', label = 'NYSE data')\n",
    "plt.xlabel('date')\n",
    "plt.ylabel('opening price (\\$)');"
   ]
  },
  {
   "cell_type": "markdown",
   "id": "c068cade",
   "metadata": {},
   "source": [
    "As you would expect, there are a wide variety of predictions for the price of GOOGL stocks using random numbers. Next, I try to get some insight into the average changes in the random walk model. I use the `np.mean` and `np.std` across the columns of the `price_model` prediction data, using `axis = 1` now."
   ]
  },
  {
   "cell_type": "code",
   "execution_count": null,
   "id": "9d566fd5",
   "metadata": {},
   "outputs": [],
   "source": [
    "price_model_avg = np.mean(price_model, axis = 1)\n",
    "price_model_std = np.std(price_model, axis = 1)\n",
    "\n",
    "plt.plot(google_data_pre_2014['date'], price_model, alpha = 0.3);\n",
    "\n",
    "plt.plot(google_data_pre_2014['date'], google_data_pre_2014['open'], c = 'k', label = 'NYSE data')\n",
    "plt.xlabel('date')\n",
    "plt.ylabel('opening price (\\$)');\n",
    "\n",
    "skip = 100\n",
    "plt.errorbar(google_data_pre_2014['date'][::skip], price_model_avg[::skip],\n",
    "             yerr = price_model_std[::skip], \n",
    "             fmt = 'o',\n",
    "             c = 'r', \n",
    "             label = 'model result', \n",
    "            zorder = 3);\n",
    "plt.legend();\n",
    "    "
   ]
  },
  {
   "cell_type": "markdown",
   "id": "4edbc140",
   "metadata": {},
   "source": [
    "## Wrapping up\n",
    "\n",
    "In this analysis, I went through data exploration, analysis, and Monte Carlo model prediction. The average random walk should resemble a straight line. There are further insights you can get by analyzing the random walk data, but for now it looks like we can accurately predict the growth of GOOGL stock over four years. __What are some caveats to this method? If we continue to predict prices into 2015, what would happen compared to the real data?__\n",
    "\n",
    "## Next Steps\n",
    "\n",
    "Now, you can try your hand at predicting stock prices on your own stock. Choose your own stock symbol and go through the same 4 steps I detailed above:\n",
    "1. Explore data and select _your own_ stock of interest\n",
    "2. Find statistical description of data: mean and standard deviation _use some of the graphing + analysis techniques in [01_Cheers_stats_beers](../module_02/01_Cheers_Stats_Beers) and [02_Seeing_stats](02_Seeing_Stats).\n",
    "3. Create random variables\n",
    "4. Generate random walk for _choose your own_ stock opening price\n",
    "\n",
    "Here are the list of stocks in this dataset:\n",
    "'A', 'AAL', 'AAP', 'AAPL', 'ABBV', 'ABC', 'ABT', 'ACN', 'ADBE',\n",
    "       'ADI', 'ADM', 'ADP', 'ADS', 'ADSK', 'AEE', 'AEP', 'AES', 'AET',\n",
    "       'AFL', 'AGN', 'AIG', 'AIV', 'AIZ', 'AJG', 'AKAM', 'ALB', 'ALK',\n",
    "       'ALL', 'ALLE', 'ALXN', 'AMAT', 'AME', 'AMG', 'AMGN', 'AMP', 'AMT',\n",
    "       'AMZN', 'AN', 'ANTM', 'AON', 'APA', 'APC', 'APD', 'APH', 'ARNC',\n",
    "       'ATVI', 'AVB', 'AVGO', 'AVY', 'AWK', 'AXP', 'AYI', 'AZO', 'BA',\n",
    "       'BAC', 'BAX', 'BBBY', 'BBT', 'BBY', 'BCR', 'BDX', 'BEN', 'BHI',\n",
    "       'BIIB', 'BK', 'BLK', 'BLL', 'BMY', 'BSX', 'BWA', 'BXP', 'C', 'CA',\n",
    "       'CAG', 'CAH', 'CAT', 'CB', 'CBG', 'CBS', 'CCI', 'CCL', 'CELG',\n",
    "       'CERN', 'CF', 'CFG', 'CHD', 'CHK', 'CHRW', 'CHTR', 'CI', 'CINF',\n",
    "       'CL', 'CLX', 'CMA', 'CMCSA', 'CME', 'CMG', 'CMI', 'CMS', 'CNC',\n",
    "       'CNP', 'COF', 'COG', 'COH', 'COL', 'COO', 'COP', 'COST', 'COTY',\n",
    "       'CPB', 'CRM', 'CSCO', 'CSRA', 'CSX', 'CTAS', 'CTL', 'CTSH', 'CTXS',\n",
    "       'CVS', 'CVX', 'CXO', 'D', 'DAL', 'DD', 'DE', 'DFS', 'DG', 'DGX',\n",
    "       'DHI', 'DHR', 'DIS', 'DISCA', 'DISCK', 'DLPH', 'DLR', 'DLTR',\n",
    "       'DNB', 'DOV', 'DOW', 'DPS', 'DRI', 'DTE', 'DUK', 'DVA', 'DVN',\n",
    "       'EA', 'EBAY', 'ECL', 'ED', 'EFX', 'EIX', 'EL', 'EMN', 'EMR',\n",
    "       'ENDP', 'EOG', 'EQIX', 'EQR', 'EQT', 'ES', 'ESRX', 'ESS', 'ETFC',\n",
    "       'ETN', 'ETR', 'EVHC', 'EW', 'EXC', 'EXPD', 'EXPE', 'EXR', 'F',\n",
    "       'FAST', 'FB', 'FBHS', 'FCX', 'FDX', 'FE', 'FFIV', 'FIS', 'FISV',\n",
    "       'FITB', 'FL', 'FLIR', 'FLR', 'FLS', 'FMC', 'FOX', 'FOXA', 'FRT',\n",
    "       'FSLR', 'FTI', 'FTR', 'FTV', 'GD', 'GE', 'GGP', 'GILD', 'GIS',\n",
    "       'GLW', 'GM', 'GOOG', 'GOOGL', 'GPC', 'GPN', 'GPS', 'GRMN', 'GS',\n",
    "       'GT', 'GWW', 'HAL', 'HAR', 'HAS', 'HBAN', 'HBI', 'HCA', 'HCN',\n",
    "       'HCP', 'HD', 'HES', 'HIG', 'HOG', 'HOLX', 'HON', 'HP', 'HPE',\n",
    "       'HPQ', 'HRB', 'HRL', 'HRS', 'HSIC', 'HST', 'HSY', 'HUM', 'IBM',\n",
    "       'ICE', 'IDXX', 'IFF', 'ILMN', 'INTC', 'INTU', 'IP', 'IPG', 'IR',\n",
    "       'IRM', 'ISRG', 'ITW', 'IVZ', 'JBHT', 'JCI', 'JEC', 'JNJ', 'JNPR',\n",
    "       'JPM', 'JWN', 'K', 'KEY', 'KHC', 'KIM', 'KLAC', 'KMB', 'KMI',\n",
    "       'KMX', 'KO', 'KORS', 'KR', 'KSS', 'KSU', 'L', 'LB', 'LEG', 'LEN',\n",
    "       'LH', 'LKQ', 'LLL', 'LLTC', 'LLY', 'LMT', 'LNC', 'LNT', 'LOW',\n",
    "       'LRCX', 'LUK', 'LUV', 'LVLT', 'LYB', 'M', 'MA', 'MAA', 'MAC',\n",
    "       'MAR', 'MAS', 'MAT', 'MCD', 'MCHP', 'MCK', 'MCO', 'MDLZ', 'MDT',\n",
    "       'MET', 'MHK', 'MJN', 'MKC', 'MLM', 'MMC', 'MMM', 'MNK', 'MNST',\n",
    "       'MO', 'MON', 'MOS', 'MPC', 'MRK', 'MRO', 'MSFT', 'MSI', 'MTB',\n",
    "       'MTD', 'MU', 'MUR', 'MYL', 'NAVI', 'NBL', 'NDAQ', 'NEE', 'NEM',\n",
    "       'NFLX', 'NFX', 'NI', 'NKE', 'NLSN', 'NOC', 'NOV', 'NRG', 'NSC',\n",
    "       'NTAP', 'NTRS', 'NUE', 'NVDA', 'NWL', 'NWS', 'NWSA', 'O', 'OKE',\n",
    "       'OMC', 'ORCL', 'ORLY', 'OXY', 'PAYX', 'PBCT', 'PBI', 'PCAR', 'PCG',\n",
    "       'PCLN', 'PDCO', 'PEG', 'PEP', 'PFE', 'PFG', 'PG', 'PGR', 'PH',\n",
    "       'PHM', 'PKI', 'PLD', 'PM', 'PNC', 'PNR', 'PNW', 'PPG', 'PPL',\n",
    "       'PRGO', 'PRU', 'PSA', 'PSX', 'PVH', 'PWR', 'PX', 'PXD', 'PYPL',\n",
    "       'QCOM', 'QRVO', 'R', 'RAI', 'RCL', 'REGN', 'RF', 'RHI', 'RHT',\n",
    "       'RIG', 'RL', 'ROK', 'ROP', 'ROST', 'RRC', 'RSG', 'RTN', 'SBUX',\n",
    "       'SCG', 'SCHW', 'SE', 'SEE', 'SHW', 'SIG', 'SJM', 'SLB', 'SLG',\n",
    "       'SNA', 'SNI', 'SO', 'SPG', 'SPGI', 'SPLS', 'SRCL', 'SRE', 'STI',\n",
    "       'STT', 'STX', 'STZ', 'SWK', 'SWKS', 'SWN', 'SYF', 'SYK', 'SYMC',\n",
    "       'SYY', 'T', 'TAP', 'TDC', 'TDG', 'TEL', 'TGNA', 'TGT', 'TIF',\n",
    "       'TJX', 'TMK', 'TMO', 'TRIP', 'TROW', 'TRV', 'TSCO', 'TSN', 'TSO',\n",
    "       'TSS', 'TWX', 'TXN', 'TXT', 'UAA', 'UAL', 'UDR', 'UHS', 'ULTA',\n",
    "       'UNH', 'UNM', 'UNP', 'UPS', 'URBN', 'URI', 'USB', 'UTX', 'V',\n",
    "       'VAR', 'VFC', 'VIAB', 'VLO', 'VMC', 'VNO', 'VRSK', 'VRSN', 'VRTX',\n",
    "       'VTR', 'VZ', 'WAT', 'WBA', 'WDC', 'WEC', 'WFC', 'WFM', 'WHR',\n",
    "       'WLTW', 'WM', 'WMB', 'WMT', 'WRK', 'WU', 'WY', 'WYN', 'WYNN',\n",
    "       'XEC', 'XEL', 'XL', 'XLNX', 'XOM', 'XRAY', 'XRX', 'XYL', 'YHOO',\n",
    "       'YUM', 'ZBH', 'ZION', 'ZTS'"
   ]
  },
  {
   "cell_type": "code",
   "execution_count": null,
   "id": "304f6feb",
   "metadata": {},
   "outputs": [],
   "source": []
  }
 ],
 "metadata": {
  "jupytext": {
   "formats": "notebooks//ipynb,md:myst",
   "text_representation": {
    "extension": ".md",
    "format_name": "myst",
    "format_version": 0.13,
    "jupytext_version": "1.10.3"
   }
  },
  "kernelspec": {
   "display_name": "Python 3",
   "language": "python",
   "name": "python3"
  },
  "language_info": {
   "codemirror_mode": {
    "name": "ipython",
    "version": 3
   },
   "file_extension": ".py",
   "mimetype": "text/x-python",
   "name": "python",
   "nbconvert_exporter": "python",
   "pygments_lexer": "ipython3",
   "version": "3.9.6"
  },
  "source_map": [
   15,
   21,
   42,
   50,
   54,
   58,
   69,
   75,
   80,
   88,
   96,
   101,
   105,
   119,
   132,
   150,
   158,
   162,
   181,
   253
  ]
 },
 "nbformat": 4,
 "nbformat_minor": 5
}